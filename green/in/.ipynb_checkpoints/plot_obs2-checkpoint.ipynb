{
 "metadata": {
  "name": "",
  "signature": "sha256:d3aba97c39740a3f319be694f58694dd7bcdb72d2a77a23722552c28b0aa65e6"
 },
 "nbformat": 3,
 "nbformat_minor": 0,
 "worksheets": []
}